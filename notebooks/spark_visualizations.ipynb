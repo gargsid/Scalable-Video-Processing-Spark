{
  "nbformat": 4,
  "nbformat_minor": 0,
  "metadata": {
    "colab": {
      "provenance": []
    },
    "kernelspec": {
      "name": "python3",
      "display_name": "Python 3"
    },
    "language_info": {
      "name": "python"
    },
    "accelerator": "GPU",
    "gpuClass": "standard"
  },
  "cells": [
    {
      "cell_type": "code",
      "execution_count": null,
      "metadata": {
        "colab": {
          "base_uri": "https://localhost:8080/"
        },
        "id": "pPnoITDEQJud",
        "outputId": "dc06cac2-c46d-454b-92fe-3cf1fd601ab4"
      },
      "outputs": [
        {
          "output_type": "stream",
          "name": "stdout",
          "text": [
            "Mounted at /content/drive\n"
          ]
        }
      ],
      "source": [
        "from google.colab import drive\n",
        "drive.mount('/content/drive')"
      ]
    },
    {
      "cell_type": "code",
      "source": [
        "import sys\n",
        "import os \n",
        "FOLDERNAME = 'CLIP-spark'\n",
        "assert FOLDERNAME is not None, \"[!] Enter the foldername.\"\n",
        "sys.path.append('/content/drive/My Drive/{}'.format(FOLDERNAME))\n",
        "\n",
        "%cd /content/drive/My\\ Drive/$FOLDERNAME/data/v/\n",
        "%cd /content/drive/My\\ Drive/$FOLDERNAME"
      ],
      "metadata": {
        "colab": {
          "base_uri": "https://localhost:8080/"
        },
        "id": "_0WZTYzhQPfa",
        "outputId": "cfb057ab-6dd3-40b1-fc69-aeb46f4e90af"
      },
      "execution_count": null,
      "outputs": [
        {
          "output_type": "stream",
          "name": "stdout",
          "text": [
            "/content/drive/.shortcut-targets-by-id/1XFVNSJR3ZiekIigyXs5cGe1mN8JRoeMe/CLIP-spark/data/v\n",
            "/content/drive/.shortcut-targets-by-id/1XFVNSJR3ZiekIigyXs5cGe1mN8JRoeMe/CLIP-spark\n"
          ]
        }
      ]
    },
    {
      "cell_type": "code",
      "source": [
        "!pip install decord\n",
        "!pip install ftfy regex tqdm\n",
        "!pip install git+https://github.com/openai/CLIP.git\n",
        "!pip install pytube "
      ],
      "metadata": {
        "colab": {
          "base_uri": "https://localhost:8080/"
        },
        "id": "X0b6PslXQTDT",
        "outputId": "7c264824-ae59-4ab9-b606-005ed9f47386"
      },
      "execution_count": null,
      "outputs": [
        {
          "output_type": "stream",
          "name": "stdout",
          "text": [
            "Looking in indexes: https://pypi.org/simple, https://us-python.pkg.dev/colab-wheels/public/simple/\n",
            "Collecting decord\n",
            "  Downloading decord-0.6.0-py3-none-manylinux2010_x86_64.whl (13.6 MB)\n",
            "\u001b[K     |████████████████████████████████| 13.6 MB 21.3 MB/s \n",
            "\u001b[?25hRequirement already satisfied: numpy>=1.14.0 in /usr/local/lib/python3.8/dist-packages (from decord) (1.21.6)\n",
            "Installing collected packages: decord\n",
            "Successfully installed decord-0.6.0\n",
            "Looking in indexes: https://pypi.org/simple, https://us-python.pkg.dev/colab-wheels/public/simple/\n",
            "Collecting ftfy\n",
            "  Downloading ftfy-6.1.1-py3-none-any.whl (53 kB)\n",
            "\u001b[K     |████████████████████████████████| 53 kB 2.2 MB/s \n",
            "\u001b[?25hRequirement already satisfied: regex in /usr/local/lib/python3.8/dist-packages (2022.6.2)\n",
            "Requirement already satisfied: tqdm in /usr/local/lib/python3.8/dist-packages (4.64.1)\n",
            "Requirement already satisfied: wcwidth>=0.2.5 in /usr/local/lib/python3.8/dist-packages (from ftfy) (0.2.5)\n",
            "Installing collected packages: ftfy\n",
            "Successfully installed ftfy-6.1.1\n",
            "Looking in indexes: https://pypi.org/simple, https://us-python.pkg.dev/colab-wheels/public/simple/\n",
            "Collecting git+https://github.com/openai/CLIP.git\n",
            "  Cloning https://github.com/openai/CLIP.git to /tmp/pip-req-build-cft5o7ai\n",
            "  Running command git clone -q https://github.com/openai/CLIP.git /tmp/pip-req-build-cft5o7ai\n",
            "Requirement already satisfied: ftfy in /usr/local/lib/python3.8/dist-packages (from clip==1.0) (6.1.1)\n",
            "Requirement already satisfied: regex in /usr/local/lib/python3.8/dist-packages (from clip==1.0) (2022.6.2)\n",
            "Requirement already satisfied: tqdm in /usr/local/lib/python3.8/dist-packages (from clip==1.0) (4.64.1)\n",
            "Requirement already satisfied: torch in /usr/local/lib/python3.8/dist-packages (from clip==1.0) (1.12.1+cu113)\n",
            "Requirement already satisfied: torchvision in /usr/local/lib/python3.8/dist-packages (from clip==1.0) (0.13.1+cu113)\n",
            "Requirement already satisfied: wcwidth>=0.2.5 in /usr/local/lib/python3.8/dist-packages (from ftfy->clip==1.0) (0.2.5)\n",
            "Requirement already satisfied: typing-extensions in /usr/local/lib/python3.8/dist-packages (from torch->clip==1.0) (4.1.1)\n",
            "Requirement already satisfied: numpy in /usr/local/lib/python3.8/dist-packages (from torchvision->clip==1.0) (1.21.6)\n",
            "Requirement already satisfied: pillow!=8.3.*,>=5.3.0 in /usr/local/lib/python3.8/dist-packages (from torchvision->clip==1.0) (7.1.2)\n",
            "Requirement already satisfied: requests in /usr/local/lib/python3.8/dist-packages (from torchvision->clip==1.0) (2.23.0)\n",
            "Requirement already satisfied: urllib3!=1.25.0,!=1.25.1,<1.26,>=1.21.1 in /usr/local/lib/python3.8/dist-packages (from requests->torchvision->clip==1.0) (1.24.3)\n",
            "Requirement already satisfied: certifi>=2017.4.17 in /usr/local/lib/python3.8/dist-packages (from requests->torchvision->clip==1.0) (2022.9.24)\n",
            "Requirement already satisfied: idna<3,>=2.5 in /usr/local/lib/python3.8/dist-packages (from requests->torchvision->clip==1.0) (2.10)\n",
            "Requirement already satisfied: chardet<4,>=3.0.2 in /usr/local/lib/python3.8/dist-packages (from requests->torchvision->clip==1.0) (3.0.4)\n",
            "Building wheels for collected packages: clip\n",
            "  Building wheel for clip (setup.py) ... \u001b[?25l\u001b[?25hdone\n",
            "  Created wheel for clip: filename=clip-1.0-py3-none-any.whl size=1369408 sha256=9ae56efd9f40755beae30d203e7fa074ab3c91222986eebd6a920ab414e72f13\n",
            "  Stored in directory: /tmp/pip-ephem-wheel-cache-rs46jhop/wheels/ab/4f/3a/5e51521b55997aa6f0690e095c08824219753128ce8d9969a3\n",
            "Successfully built clip\n",
            "Installing collected packages: clip\n",
            "Successfully installed clip-1.0\n",
            "Looking in indexes: https://pypi.org/simple, https://us-python.pkg.dev/colab-wheels/public/simple/\n",
            "Collecting pytube\n",
            "  Downloading pytube-12.1.0-py3-none-any.whl (56 kB)\n",
            "\u001b[K     |████████████████████████████████| 56 kB 4.6 MB/s \n",
            "\u001b[?25hInstalling collected packages: pytube\n",
            "Successfully installed pytube-12.1.0\n"
          ]
        }
      ]
    },
    {
      "cell_type": "code",
      "source": [
        "videos_dir = '/content/drive/My Drive/{}/data/v'.format(FOLDERNAME)\n",
        "num_videos = len(os.listdir(f'data/v'))\n",
        "print('downloaded videos:', num_videos)"
      ],
      "metadata": {
        "colab": {
          "base_uri": "https://localhost:8080/"
        },
        "id": "oThlwhtKQUh6",
        "outputId": "5344eef6-e894-45d3-b861-43d12e4928d3"
      },
      "execution_count": null,
      "outputs": [
        {
          "output_type": "stream",
          "name": "stdout",
          "text": [
            "downloaded videos: 1622\n"
          ]
        }
      ]
    },
    {
      "cell_type": "code",
      "source": [
        "import torch\n",
        "import clip \n",
        "from clip_tagger import CLIPTag"
      ],
      "metadata": {
        "id": "r3rJWPlgQXwF"
      },
      "execution_count": null,
      "outputs": []
    },
    {
      "cell_type": "code",
      "source": [
        "from download_videos import download_video_helper\n",
        "\n",
        "url = 'https://www.youtube.com/watch?v=pswdTJ59fdQ'\n",
        "name = 'adobe-stock'\n",
        "video_path = f'data/v/{name}.mp4'\n",
        "download_video_helper(url, name)"
      ],
      "metadata": {
        "id": "xH6GDkgkQiqG"
      },
      "execution_count": null,
      "outputs": []
    },
    {
      "cell_type": "code",
      "source": [
        "from videoloader import CLIPVideoDataset\n",
        "\n",
        "device = \"cuda\" if torch.cuda.is_available() else \"cpu\"\n",
        "\n",
        "model, preprocess = clip.load(\"ViT-B/32\", device=device)\n",
        "clip_tagger = CLIPTag(model, preprocess)"
      ],
      "metadata": {
        "colab": {
          "base_uri": "https://localhost:8080/"
        },
        "id": "ReIZFWzEQcEN",
        "outputId": "fc7be071-b8cc-41d3-8fc8-d4e27a15027f"
      },
      "execution_count": null,
      "outputs": [
        {
          "output_type": "stream",
          "name": "stderr",
          "text": [
            "100%|███████████████████████████████████████| 338M/338M [00:05<00:00, 65.9MiB/s]\n"
          ]
        },
        {
          "output_type": "stream",
          "name": "stdout",
          "text": [
            "imagenet prompts features found at data/prompt_embeddings/imagenet_class_prompt_embeds.pt\n",
            "kinetics prompt features already found at data/prompt_embeddings/kinectics_class_prompt_embeds.pt\n"
          ]
        }
      ]
    },
    {
      "cell_type": "code",
      "source": [
        "tags = clip_tagger.tag_video('data/v/skyfall.mp4')\n",
        "print(tags)"
      ],
      "metadata": {
        "colab": {
          "base_uri": "https://localhost:8080/"
        },
        "id": "gt6b0ogXHJs3",
        "outputId": "ea3cba87-37e6-451d-a00e-71a44dfc28f3"
      },
      "execution_count": null,
      "outputs": [
        {
          "output_type": "stream",
          "name": "stdout",
          "text": [
            "extracting: 0/3 clip_features: torch.Size([128, 512]) cuda:0\n",
            "extracting: 1/3 clip_features: torch.Size([256, 512]) cuda:0\n",
            "extracting: 2/3 clip_features: torch.Size([268, 512]) cuda:0\n",
            "['freight car', 'horse-drawn vehicle', 'jeep', 'bullock cart', 'threshing machine', 'bulldozing', 'parkour', 'shooting off fireworks', 'using circular saw']\n"
          ]
        }
      ]
    },
    {
      "cell_type": "code",
      "source": [
        "tags = clip_tagger.tag_video(video_path)\n",
        "print(tags)"
      ],
      "metadata": {
        "colab": {
          "base_uri": "https://localhost:8080/"
        },
        "id": "TzOzMV6ESEoQ",
        "outputId": "0fc6d96e-efd8-49e2-97bb-88124292e07b"
      },
      "execution_count": null,
      "outputs": [
        {
          "output_type": "stream",
          "name": "stdout",
          "text": [
            "extracting: 0/6 clip_features: torch.Size([128, 512]) cuda:0\n",
            "extracting: 1/6 clip_features: torch.Size([256, 512]) cuda:0\n",
            "extracting: 2/6 clip_features: torch.Size([384, 512]) cuda:0\n",
            "extracting: 3/6 clip_features: torch.Size([512, 512]) cuda:0\n",
            "extracting: 4/6 clip_features: torch.Size([640, 512]) cuda:0\n",
            "extracting: 5/6 clip_features: torch.Size([677, 512]) cuda:0\n"
          ]
        }
      ]
    },
    {
      "cell_type": "code",
      "source": [
        "video_path = f'data/v/test.mp4'\n",
        "tags = clip_tagger.tag_video(video_path)\n",
        "print(tags)"
      ],
      "metadata": {
        "colab": {
          "base_uri": "https://localhost:8080/"
        },
        "id": "Xx7MjxP1S1MA",
        "outputId": "5f04bc71-cd20-4f26-fee9-4814b95904f0"
      },
      "execution_count": null,
      "outputs": [
        {
          "output_type": "stream",
          "name": "stdout",
          "text": [
            "extracting: 0/6 clip_features: torch.Size([128, 512]) cuda:0\n",
            "extracting: 1/6 clip_features: torch.Size([256, 512]) cuda:0\n",
            "extracting: 2/6 clip_features: torch.Size([384, 512]) cuda:0\n",
            "extracting: 3/6 clip_features: torch.Size([512, 512]) cuda:0\n",
            "extracting: 4/6 clip_features: torch.Size([640, 512]) cuda:0\n",
            "extracting: 5/6 clip_features: torch.Size([677, 512]) cuda:0\n",
            "['ostrich', 'European green lizard', 'lorikeet', 'bathing dog', 'riding elephant']\n"
          ]
        }
      ]
    },
    {
      "cell_type": "code",
      "source": [
        "url = 'https://www.youtube.com/watch?v=cL4uhaQ58Rk'\n",
        "name = 'lost-stars-adam'\n",
        "video_path = f'data/v/{name}.mp4'\n",
        "download_video_helper(url, name)\n",
        "tags = clip_tagger.tag_video(video_path)\n",
        "print(tags)"
      ],
      "metadata": {
        "id": "ngXOPDxW1CCJ",
        "colab": {
          "base_uri": "https://localhost:8080/"
        },
        "outputId": "838849b3-1c71-4901-acd0-81c11d1a6631"
      },
      "execution_count": null,
      "outputs": [
        {
          "output_type": "stream",
          "name": "stdout",
          "text": [
            "extracting: 0/3 clip_features: torch.Size([128, 512]) cuda:0\n",
            "extracting: 1/3 clip_features: torch.Size([256, 512]) cuda:0\n",
            "extracting: 2/3 clip_features: torch.Size([275, 512]) cuda:0\n",
            "['acoustic guitar', 'gymnastic horizontal bar', 'plectrum', 'mosh pit dancing', 'playing guitar', 'tapping guitar']\n"
          ]
        }
      ]
    },
    {
      "cell_type": "code",
      "source": [
        "url = 'https://www.youtube.com/watch?v=Fzlh69nLx5Y'\n",
        "name = 'step-you-cant-take-back-keira'\n",
        "video_path = f'data/v/{name}.mp4'\n",
        "download_video_helper(url, name)\n",
        "tags = clip_tagger.tag_video(video_path)\n",
        "print(tags)"
      ],
      "metadata": {
        "colab": {
          "base_uri": "https://localhost:8080/"
        },
        "id": "Cpf4B9a0ezV_",
        "outputId": "cc6a9a4f-6394-41f7-b032-ebff360bd30a"
      },
      "execution_count": null,
      "outputs": [
        {
          "output_type": "stream",
          "name": "stdout",
          "text": [
            "extracting: 0/3 clip_features: torch.Size([128, 512]) cuda:0\n",
            "extracting: 1/3 clip_features: torch.Size([256, 512]) cuda:0\n",
            "extracting: 2/3 clip_features: torch.Size([353, 512]) cuda:0\n",
            "['cello', 'bartending', 'playing cello']\n"
          ]
        }
      ]
    },
    {
      "cell_type": "code",
      "source": [
        "url = 'https://www.youtube.com/watch?v=N3s5BBzklig'\n",
        "name = 'keira-rooftop'\n",
        "video_path = f'data/v/{name}.mp4'\n",
        "download_video_helper(url, name)\n",
        "tags = clip_tagger.tag_video(video_path)\n",
        "print(tags)"
      ],
      "metadata": {
        "colab": {
          "base_uri": "https://localhost:8080/"
        },
        "id": "CEi3iyPDfEXh",
        "outputId": "946c8c3b-421c-41ae-9c86-bc774d2c07dd"
      },
      "execution_count": null,
      "outputs": [
        {
          "output_type": "stream",
          "name": "stdout",
          "text": [
            "extracting: 0/3 clip_features: torch.Size([128, 512]) cuda:0\n",
            "extracting: 1/3 clip_features: torch.Size([256, 512]) cuda:0\n",
            "extracting: 2/3 clip_features: torch.Size([269, 512]) cuda:0\n",
            "['grand piano', 'playing keyboard']\n"
          ]
        }
      ]
    },
    {
      "cell_type": "code",
      "source": [
        "url = 'https://www.youtube.com/watch?v=j7MZfgP3j7k'\n",
        "name = 'keira-roses'\n",
        "video_path = f'data/v/{name}.mp4'\n",
        "download_video_helper(url, name)\n",
        "tags = clip_tagger.tag_video(video_path)\n",
        "print(tags)"
      ],
      "metadata": {
        "colab": {
          "base_uri": "https://localhost:8080/"
        },
        "id": "oJcId-pZfHy-",
        "outputId": "bdb0d6ef-ff46-4b9b-e11b-1f9cb8c3d78e"
      },
      "execution_count": null,
      "outputs": [
        {
          "output_type": "stream",
          "name": "stdout",
          "text": [
            "extracting: 0/2 clip_features: torch.Size([128, 512]) cuda:0\n",
            "extracting: 1/2 clip_features: torch.Size([190, 512]) cuda:0\n",
            "['cello', 'drum', 'steel drum', 'violin', 'playing cello', 'playing drums', 'playing violin']\n"
          ]
        }
      ]
    },
    {
      "cell_type": "code",
      "source": [
        "url = 'https://www.youtube.com/watch?v=fCUIQYMNO-U'\n",
        "name = 'keira-lost-stars'\n",
        "video_path = f'data/v/{name}.mp4'\n",
        "download_video_helper(url, name)\n",
        "tags = clip_tagger.tag_video(video_path)\n",
        "print(tags)"
      ],
      "metadata": {
        "colab": {
          "base_uri": "https://localhost:8080/"
        },
        "id": "tx6KpJ6Qhsjw",
        "outputId": "ead8f29d-aff9-4309-dffc-d4c664cabd1b"
      },
      "execution_count": null,
      "outputs": [
        {
          "output_type": "stream",
          "name": "stdout",
          "text": [
            "extracting: 0/2 clip_features: torch.Size([128, 512]) cuda:0\n",
            "extracting: 1/2 clip_features: torch.Size([238, 512]) cuda:0\n",
            "['gymnastic horizontal bar', 'looking at phone', 'playing guitar', 'talking on cell phone', 'tapping guitar']\n"
          ]
        }
      ]
    },
    {
      "cell_type": "code",
      "source": [
        "!nvidia-smi"
      ],
      "metadata": {
        "id": "AI-mClI6SUCw",
        "outputId": "d1b0e269-808a-4fbf-8fc3-010afb159f81",
        "colab": {
          "base_uri": "https://localhost:8080/"
        }
      },
      "execution_count": null,
      "outputs": [
        {
          "output_type": "stream",
          "name": "stdout",
          "text": [
            "Sat Dec  3 23:19:09 2022       \n",
            "+-----------------------------------------------------------------------------+\n",
            "| NVIDIA-SMI 460.32.03    Driver Version: 460.32.03    CUDA Version: 11.2     |\n",
            "|-------------------------------+----------------------+----------------------+\n",
            "| GPU  Name        Persistence-M| Bus-Id        Disp.A | Volatile Uncorr. ECC |\n",
            "| Fan  Temp  Perf  Pwr:Usage/Cap|         Memory-Usage | GPU-Util  Compute M. |\n",
            "|                               |                      |               MIG M. |\n",
            "|===============================+======================+======================|\n",
            "|   0  Tesla T4            Off  | 00000000:00:04.0 Off |                    0 |\n",
            "| N/A   58C    P0    31W /  70W |   1962MiB / 15109MiB |      0%      Default |\n",
            "|                               |                      |                  N/A |\n",
            "+-------------------------------+----------------------+----------------------+\n",
            "                                                                               \n",
            "+-----------------------------------------------------------------------------+\n",
            "| Processes:                                                                  |\n",
            "|  GPU   GI   CI        PID   Type   Process name                  GPU Memory |\n",
            "|        ID   ID                                                   Usage      |\n",
            "|=============================================================================|\n",
            "+-----------------------------------------------------------------------------+\n"
          ]
        }
      ]
    }
  ]
}