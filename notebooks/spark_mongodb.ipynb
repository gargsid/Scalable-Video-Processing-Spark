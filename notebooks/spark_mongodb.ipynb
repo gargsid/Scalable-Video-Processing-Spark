{
 "cells": [
  {
   "cell_type": "markdown",
   "metadata": {},
   "source": [
    "### Prerequisites\n",
    "#### 1. Have the following jar files in PySpark root (`/anaconda3/lib/python3.6/site-packages/pyspark/jars`):\n",
    "    1. bson-3.8.1-javadoc.jar\n",
    "    2. mongodb-driver-core-3.8.1-javadoc.jar\n",
    "    3. mongodb-driver-3.8.1-javadoc.jar\n",
    "    Download: https://stackoverflow.com/a/52388477\n",
    "#### 2. Start/stop mongodb service using homebrew:\n",
    "`brew services <start/stop> mongodb-community@6.0`"
   ]
  },
  {
   "cell_type": "code",
   "execution_count": 1,
   "metadata": {},
   "outputs": [],
   "source": [
    "import pyspark\n",
    "from pyspark.sql import SparkSession\n",
    "from pyspark.sql.functions import array_contains"
   ]
  },
  {
   "cell_type": "markdown",
   "metadata": {},
   "source": [
    "### Connect to MongoDB"
   ]
  },
  {
   "cell_type": "code",
   "execution_count": 2,
   "metadata": {},
   "outputs": [],
   "source": [
    "# CNCT_STR = 'mongodb://127.0.0.1:27017/svp_local.video_tags'\n",
    "CNCT_STR = 'mongodb+srv://sri:<PASSWORD>@svp-cluster.1uzpyjf.mongodb.net/svp_database.video_tags?retryWrites=true'\n",
    "FORMAT = 'com.mongodb.spark.sql.DefaultSource'"
   ]
  },
  {
   "cell_type": "code",
   "execution_count": 3,
   "metadata": {},
   "outputs": [
    {
     "name": "stderr",
     "output_type": "stream",
     "text": [
      "/Users/sridhama/anaconda3/lib/python3.6/site-packages/pyspark/context.py:238: FutureWarning: Python 3.6 support is deprecated in Spark 3.2.\n",
      "  FutureWarning\n"
     ]
    }
   ],
   "source": [
    "spark = SparkSession \\\n",
    "        .builder \\\n",
    "        .appName('spark_video_processing') \\\n",
    "        .master('local')\\\n",
    "        .config('spark.mongodb.input.uri', CNCT_STR) \\\n",
    "        .config('spark.mongodb.output.uri', CNCT_STR) \\\n",
    "        .config('spark.jars.packages', 'org.mongodb.spark:mongo-spark-connector_2.12:3.0.1') \\\n",
    "        .getOrCreate()"
   ]
  },
  {
   "cell_type": "markdown",
   "metadata": {},
   "source": [
    "### Read from MongoDB"
   ]
  },
  {
   "cell_type": "code",
   "execution_count": 4,
   "metadata": {},
   "outputs": [],
   "source": [
    "video_tags = spark.read \\\n",
    "             .format(FORMAT) \\\n",
    "             .option('uri', CNCT_STR) \\\n",
    "             .load()"
   ]
  },
  {
   "cell_type": "code",
   "execution_count": 5,
   "metadata": {},
   "outputs": [
    {
     "name": "stdout",
     "output_type": "stream",
     "text": [
      "root\n",
      " |-- _id: struct (nullable = true)\n",
      " |    |-- oid: string (nullable = true)\n",
      " |-- tags: array (nullable = true)\n",
      " |    |-- element: string (containsNull = true)\n",
      " |-- video_id: long (nullable = true)\n",
      "\n"
     ]
    }
   ],
   "source": [
    "video_tags.printSchema()"
   ]
  },
  {
   "cell_type": "code",
   "execution_count": 6,
   "metadata": {},
   "outputs": [
    {
     "name": "stdout",
     "output_type": "stream",
     "text": [
      "+--------------------+--------------------+--------+\n",
      "|                 _id|                tags|video_id|\n",
      "+--------------------+--------------------+--------+\n",
      "|{635b67c84e6a9461...|[cat, dog, elephant]|     123|\n",
      "|{635b67c84e6a9461...|    [dog, bear, cow]|     456|\n",
      "|{635b687c4e6a9461...|[monkey, dog, zebra]|     567|\n",
      "|{635ed4f44015f46b...|[penguin, monkey,...|    1003|\n",
      "+--------------------+--------------------+--------+\n",
      "\n"
     ]
    }
   ],
   "source": [
    "video_tags.show()"
   ]
  },
  {
   "cell_type": "code",
   "execution_count": 7,
   "metadata": {},
   "outputs": [],
   "source": [
    "VIDEO_ID = 1002"
   ]
  },
  {
   "cell_type": "code",
   "execution_count": 8,
   "metadata": {},
   "outputs": [
    {
     "name": "stdout",
     "output_type": "stream",
     "text": [
      "+---+----+--------+\n",
      "|_id|tags|video_id|\n",
      "+---+----+--------+\n",
      "+---+----+--------+\n",
      "\n"
     ]
    }
   ],
   "source": [
    "video_tags.filter(f'video_id = {VIDEO_ID}').show()"
   ]
  },
  {
   "cell_type": "code",
   "execution_count": 9,
   "metadata": {},
   "outputs": [
    {
     "name": "stdout",
     "output_type": "stream",
     "text": [
      "+--------------------+--------------------+--------+\n",
      "|                 _id|                tags|video_id|\n",
      "+--------------------+--------------------+--------+\n",
      "|{635b67c84e6a9461...|[cat, dog, elephant]|     123|\n",
      "|{635b67c84e6a9461...|    [dog, bear, cow]|     456|\n",
      "|{635b687c4e6a9461...|[monkey, dog, zebra]|     567|\n",
      "+--------------------+--------------------+--------+\n",
      "\n"
     ]
    },
    {
     "data": {
      "text/plain": [
       "3"
      ]
     },
     "execution_count": 9,
     "metadata": {},
     "output_type": "execute_result"
    }
   ],
   "source": [
    "QUERY_TAG = 'dog'\n",
    "df = video_tags.filter(array_contains(video_tags.tags, QUERY_TAG))\n",
    "df.show()\n",
    "df.count() # get count"
   ]
  },
  {
   "cell_type": "markdown",
   "metadata": {},
   "source": [
    "#### Retrieve videos which either contain `dog` or `monkey`"
   ]
  },
  {
   "cell_type": "code",
   "execution_count": 10,
   "metadata": {},
   "outputs": [
    {
     "name": "stdout",
     "output_type": "stream",
     "text": [
      "+--------------------+--------------------+--------+\n",
      "|                 _id|                tags|video_id|\n",
      "+--------------------+--------------------+--------+\n",
      "|{635b67c84e6a9461...|[cat, dog, elephant]|     123|\n",
      "|{635b67c84e6a9461...|    [dog, bear, cow]|     456|\n",
      "|{635b687c4e6a9461...|[monkey, dog, zebra]|     567|\n",
      "|{635b687c4e6a9461...|[monkey, dog, zebra]|     567|\n",
      "|{635ed4f44015f46b...|[penguin, monkey,...|    1003|\n",
      "+--------------------+--------------------+--------+\n",
      "\n"
     ]
    }
   ],
   "source": [
    "QUERY_TAG1 = 'dog'\n",
    "df1 = video_tags.filter(array_contains(video_tags.tags, QUERY_TAG1))\n",
    "QUERY_TAG2 = 'monkey'\n",
    "df2 = video_tags.filter(array_contains(video_tags.tags, QUERY_TAG2))\n",
    "df1.union(df2).show()"
   ]
  },
  {
   "cell_type": "markdown",
   "metadata": {},
   "source": [
    "#### Retrieve videos which contain `dog` and `monkey`"
   ]
  },
  {
   "cell_type": "code",
   "execution_count": 11,
   "metadata": {},
   "outputs": [
    {
     "name": "stdout",
     "output_type": "stream",
     "text": [
      "+--------------------+----------------+--------+\n",
      "|                 _id|            tags|video_id|\n",
      "+--------------------+----------------+--------+\n",
      "|{635b67c84e6a9461...|[dog, bear, cow]|     456|\n",
      "+--------------------+----------------+--------+\n",
      "\n"
     ]
    }
   ],
   "source": [
    "QUERY_TAG1 = 'dog'\n",
    "df1 = video_tags.filter(array_contains(video_tags.tags, QUERY_TAG1))\n",
    "QUERY_TAG2 = 'cow'\n",
    "df2 = video_tags.filter(array_contains(video_tags.tags, QUERY_TAG2))\n",
    "df1.intersect(df2).show()"
   ]
  },
  {
   "cell_type": "markdown",
   "metadata": {},
   "source": [
    "#### Using SQL for retrieval"
   ]
  },
  {
   "cell_type": "code",
   "execution_count": 12,
   "metadata": {},
   "outputs": [],
   "source": [
    "video_tags.createOrReplaceTempView('VIDEO_TAGS')"
   ]
  },
  {
   "cell_type": "code",
   "execution_count": 13,
   "metadata": {},
   "outputs": [
    {
     "name": "stdout",
     "output_type": "stream",
     "text": [
      "+---+----+--------+\n",
      "|_id|tags|video_id|\n",
      "+---+----+--------+\n",
      "+---+----+--------+\n",
      "\n"
     ]
    }
   ],
   "source": [
    "QUERY = f'SELECT * FROM VIDEO_TAGS WHERE `video_id` = {VIDEO_ID}'\n",
    "spark.sql(QUERY).show()"
   ]
  },
  {
   "cell_type": "markdown",
   "metadata": {},
   "source": [
    "### Write to MongoDB"
   ]
  },
  {
   "cell_type": "code",
   "execution_count": 17,
   "metadata": {},
   "outputs": [],
   "source": [
    "new_tags = spark.createDataFrame([{'video_id': 1004,\n",
    "                                   'tags': ['zebra', 'tiger', 'rabbit']\n",
    "                                  }\n",
    "                                 ])"
   ]
  },
  {
   "cell_type": "code",
   "execution_count": 18,
   "metadata": {},
   "outputs": [
    {
     "name": "stdout",
     "output_type": "stream",
     "text": [
      "root\n",
      " |-- tags: array (nullable = true)\n",
      " |    |-- element: string (containsNull = true)\n",
      " |-- video_id: long (nullable = true)\n",
      "\n"
     ]
    }
   ],
   "source": [
    "new_tags.printSchema()"
   ]
  },
  {
   "cell_type": "code",
   "execution_count": 19,
   "metadata": {},
   "outputs": [],
   "source": [
    "new_tags.write.format(FORMAT).mode('append').save()"
   ]
  }
 ],
 "metadata": {
  "kernelspec": {
   "display_name": "Python 3",
   "language": "python",
   "name": "python3"
  },
  "language_info": {
   "codemirror_mode": {
    "name": "ipython",
    "version": 3
   },
   "file_extension": ".py",
   "mimetype": "text/x-python",
   "name": "python",
   "nbconvert_exporter": "python",
   "pygments_lexer": "ipython3",
   "version": "3.6.7"
  }
 },
 "nbformat": 4,
 "nbformat_minor": 2
}
